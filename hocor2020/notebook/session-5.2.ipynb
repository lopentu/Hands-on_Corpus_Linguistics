{
  "nbformat": 4,
  "nbformat_minor": 0,
  "metadata": {
    "colab": {
      "name": "session-5.2.ipynb",
      "provenance": [],
      "collapsed_sections": []
    },
    "kernelspec": {
      "display_name": "Python 3",
      "name": "python3"
    }
  },
  "cells": [
    {
      "cell_type": "markdown",
      "metadata": {
        "id": "Fb2i1jZ-nHKa"
      },
      "source": [
        "# Course Outline\n",
        "  * Step 0: 載入套件並下載語料\n",
        "  * Step 1: 將語料讀進來\n",
        "  * Step 2: Contingency table 和 keyness 計算公式\n",
        "  * Step 3: 計算詞頻\n",
        "  * Step 4: 計算 keyness\n",
        "  * Step 5: 找出 PTT 兩板的 keywords\n",
        "  * Step 6: 視覺化"
      ]
    },
    {
      "cell_type": "markdown",
      "metadata": {
        "id": "n6AjKZUCnNge"
      },
      "source": [
        "# Step 0: 載入套件並下載語料"
      ]
    },
    {
      "cell_type": "code",
      "metadata": {
        "id": "qTtfmO9iWeJc"
      },
      "source": [
        "import re # 待會會使用 regular expression\n",
        "import math # 用來計算 log\n",
        "import pandas as pd # 用來製作表格\n",
        "import matplotlib # python 的繪圖套件\n",
        "import matplotlib.pyplot as plt # 用來畫圖表\n",
        "from matplotlib.font_manager import FontProperties # 用來顯示中文字型\n",
        "from wordcloud import WordCloud # 製作文字雲\n",
        "from google.colab import files # 將輸出結果匯出"
      ],
      "execution_count": null,
      "outputs": []
    },
    {
      "cell_type": "code",
      "metadata": {
        "colab": {
          "base_uri": "https://localhost:8080/"
        },
        "id": "jZBDHdPGlxRW",
        "outputId": "4ea297a2-021f-4195-e62d-13ea92fe8bda"
      },
      "source": [
        "# 用來下載 Google Drive 上的文件\n",
        "# Colab 已內建此指令\n",
        "!pip install gdown"
      ],
      "execution_count": null,
      "outputs": [
        {
          "output_type": "stream",
          "text": [
            "Requirement already satisfied: gdown in /usr/local/lib/python3.6/dist-packages (3.6.4)\n",
            "Requirement already satisfied: requests in /usr/local/lib/python3.6/dist-packages (from gdown) (2.23.0)\n",
            "Requirement already satisfied: tqdm in /usr/local/lib/python3.6/dist-packages (from gdown) (4.41.1)\n",
            "Requirement already satisfied: six in /usr/local/lib/python3.6/dist-packages (from gdown) (1.15.0)\n",
            "Requirement already satisfied: idna<3,>=2.5 in /usr/local/lib/python3.6/dist-packages (from requests->gdown) (2.10)\n",
            "Requirement already satisfied: certifi>=2017.4.17 in /usr/local/lib/python3.6/dist-packages (from requests->gdown) (2020.11.8)\n",
            "Requirement already satisfied: urllib3!=1.25.0,!=1.25.1,<1.26,>=1.21.1 in /usr/local/lib/python3.6/dist-packages (from requests->gdown) (1.24.3)\n",
            "Requirement already satisfied: chardet<4,>=3.0.2 in /usr/local/lib/python3.6/dist-packages (from requests->gdown) (3.0.4)\n"
          ],
          "name": "stdout"
        }
      ]
    },
    {
      "cell_type": "code",
      "metadata": {
        "colab": {
          "base_uri": "https://localhost:8080/"
        },
        "id": "IxXTq-_Cl1m0",
        "outputId": "b4ef0882-40f6-49a5-9b8f-08e3a5d77a99"
      },
      "source": [
        "# 下載語料 (語料已經過斷詞處理)\n",
        "!gdown --id \"1q3DAwlRaK9mApM_rtdSlfAvhLRotMAQH\" -O \"WomenTalk_2020_seg.txt\" # 2020 年 WomenTalk 板\n",
        "!gdown --id \"1PG_b7CBB6QLELEDBiRmAT9q9DlLNxksV\" -O \"Gossiping_2020_seg.txt\" # 2020 年 Gossiping 板"
      ],
      "execution_count": null,
      "outputs": [
        {
          "output_type": "stream",
          "text": [
            "Downloading...\n",
            "From: https://drive.google.com/uc?id=1q3DAwlRaK9mApM_rtdSlfAvhLRotMAQH\n",
            "To: /content/WomenTalk_2020_seg.txt\n",
            "6.67MB [00:00, 58.7MB/s]\n",
            "Downloading...\n",
            "From: https://drive.google.com/uc?id=1PG_b7CBB6QLELEDBiRmAT9q9DlLNxksV\n",
            "To: /content/Gossiping_2020_seg.txt\n",
            "7.80MB [00:00, 122MB/s]\n"
          ],
          "name": "stdout"
        }
      ]
    },
    {
      "cell_type": "code",
      "metadata": {
        "colab": {
          "base_uri": "https://localhost:8080/"
        },
        "id": "XS1DRnF4diQZ",
        "outputId": "1440a802-21db-4a25-acf1-69b87b41f7c2"
      },
      "source": [
        "# 如果你想試試不同年份的資料\n",
        "!gdown --id \"1mbtnbe_vjVbq87VEZY-z7T6QgZ3gpjJ9\" -O \"Gossiping_2015_seg.txt\" # 2015 年 Gossiping 板\n",
        "!gdown --id \"1QvmzgrelbcfKWCFra7Yegq7FoWqGVfyL\" -O \"Gossiping_2010_seg.txt\" # 2010 年 Gossiping 板\n",
        "!gdown --id \"1GJycMF7q7tMPf5j4aM-7DAGfIIDH_w0t\" -O \"Gossiping_2005_seg.txt\" # 2005 年 Gossiping 板\n",
        "\n",
        "!gdown --id \"1FL3bvOmkeqDrgMBWGfoVtxBqvX9R_ebW\" -O \"WomenTalk_2015_seg.txt\" # 2015 年 WomenTalk 板\n",
        "!gdown --id \"16-XHG9ceyVVWPZ1NSeCyDMoJn0J84L8e\" -O \"WomenTalk_2010_seg.txt\" # 2010 年 WomenTalk 板\n",
        "!gdown --id \"1MfxuFa9wFjVkknpeXUY19rZbh7jrp64J\" -O \"WomenTalk_2005_seg.txt\" # 2005 年 WomenTalk 板"
      ],
      "execution_count": null,
      "outputs": [
        {
          "output_type": "stream",
          "text": [
            "Downloading...\n",
            "From: https://drive.google.com/uc?id=1mbtnbe_vjVbq87VEZY-z7T6QgZ3gpjJ9\n",
            "To: /content/Gossiping_2015_seg.txt\n",
            "20.8MB [00:00, 127MB/s]\n",
            "Downloading...\n",
            "From: https://drive.google.com/uc?id=1QvmzgrelbcfKWCFra7Yegq7FoWqGVfyL\n",
            "To: /content/Gossiping_2010_seg.txt\n",
            "100% 1.83M/1.83M [00:00<00:00, 111MB/s]\n",
            "Downloading...\n",
            "From: https://drive.google.com/uc?id=1GJycMF7q7tMPf5j4aM-7DAGfIIDH_w0t\n",
            "To: /content/Gossiping_2005_seg.txt\n",
            "2.61MB [00:00, 83.7MB/s]\n",
            "Downloading...\n",
            "From: https://drive.google.com/uc?id=1FL3bvOmkeqDrgMBWGfoVtxBqvX9R_ebW\n",
            "To: /content/WomenTalk_2015_seg.txt\n",
            "3.31MB [00:00, 104MB/s]\n",
            "Downloading...\n",
            "From: https://drive.google.com/uc?id=16-XHG9ceyVVWPZ1NSeCyDMoJn0J84L8e\n",
            "To: /content/WomenTalk_2010_seg.txt\n",
            "100% 1.04M/1.04M [00:00<00:00, 68.4MB/s]\n",
            "Downloading...\n",
            "From: https://drive.google.com/uc?id=1MfxuFa9wFjVkknpeXUY19rZbh7jrp64J\n",
            "To: /content/WomenTalk_2005_seg.txt\n",
            "100% 1.40M/1.40M [00:00<00:00, 88.0MB/s]\n"
          ],
          "name": "stdout"
        }
      ]
    },
    {
      "cell_type": "markdown",
      "metadata": {
        "id": "VJ_IF0VmnWiE"
      },
      "source": [
        "# Step 1: 將語料讀進來"
      ]
    },
    {
      "cell_type": "code",
      "metadata": {
        "id": "77wF-j1dmSnE"
      },
      "source": [
        "# 我們將 2020 年 Gossiping 板當作 target corpus\n",
        "with open('/content/Gossiping_2020_seg.txt') as f:\n",
        "  tgt_content = f.read().strip()\n",
        "\n",
        "# 將 2020 年 WomenTalk 板當作 reference corpus\n",
        "with open('/content/WomenTalk_2020_seg.txt') as f:\n",
        "  ref_content = f.read().strip()"
      ],
      "execution_count": null,
      "outputs": []
    },
    {
      "cell_type": "code",
      "metadata": {
        "id": "X41NfQTiW9ik"
      },
      "source": [
        "# 已斷詞的語料是用空白分隔每個詞，所以我們現在要把它們拆開\n",
        "tgt_corpus = re.split('\\s+', tgt_content)\n",
        "ref_corpus = re.split('\\s+', ref_content)"
      ],
      "execution_count": null,
      "outputs": []
    },
    {
      "cell_type": "markdown",
      "metadata": {
        "id": "-4c7yvmbnaN8"
      },
      "source": [
        "# Step 2: Contingency table 和 keyness 計算公式"
      ]
    },
    {
      "cell_type": "markdown",
      "metadata": {
        "id": "dKyK59LZ734Y"
      },
      "source": [
        "## 2.1 Contingency Table"
      ]
    },
    {
      "cell_type": "markdown",
      "metadata": {
        "id": "kuqsO2VrUp18"
      },
      "source": [
        "* 這是我們接下來計算 keyness 會使用的 contingency table\n",
        "\n",
        "|            | word       | other word      | total    |\n",
        "|------------|------------|-----------------|----------|\n",
        "| tgt_corpus | a          | b               | (a+b) |\n",
        "| ref_corpus | c          | d               | (c+d) |\n",
        "| total      | (a+c)      | (b+d)           | (a+b+c+d)|\n",
        "\n",
        "* 有了 contingency table，就可以知道計算 keyness 所需要的 observed value 和 expected value    \n",
        "O11 = a  \n",
        "O12 = b  \n",
        "O21 = c  \n",
        "O22 = d    \n",
        "E11 = ((a+b) * (a+c))/(a+b+c+d)    \n",
        "E12 = ((a+b) * (b+d))/(a+b+c+d)  \n",
        "E21 = ((c+d) * (a+c))/(a+b+c+d)   \n",
        "E22 = ((c+d) * (b+d))/(a+b+c+d)"
      ]
    },
    {
      "cell_type": "markdown",
      "metadata": {
        "id": "ARTjgrOs8B4W"
      },
      "source": [
        "## 2.2 Keyness 計算公式"
      ]
    },
    {
      "cell_type": "markdown",
      "metadata": {
        "id": "g-g4LYdM8CDq"
      },
      "source": [
        "* chi-square\n",
        "$$\\chi^2 = \\sum_{i=1}^n \\frac {(O_i - E_i)^2}{E_i}$$\n",
        "\n",
        "* log-likelihood  \n",
        "$$G^2 = 2 \\sum_{i=1}^n O_i \\times ln \\frac{O_i}{E_i}$$"
      ]
    },
    {
      "cell_type": "markdown",
      "metadata": {
        "id": "wfKrVnY8nhRj"
      },
      "source": [
        "# Step 3: 計算詞頻"
      ]
    },
    {
      "cell_type": "markdown",
      "metadata": {
        "id": "uhHKOViOnjmw"
      },
      "source": [
        "首先，讓我們定義一個函式。透過這個函式，我們可以取得一些之後計算需要的數值。"
      ]
    },
    {
      "cell_type": "code",
      "metadata": {
        "id": "EtOrDKg4W_1-"
      },
      "source": [
        "# make frequency list\n",
        "def count_freq(corpus):\n",
        "    word_freq = {}\n",
        "    other_word_freq = {}\n",
        "    corpus_size = len(corpus)\n",
        "\n",
        "    # count word_freq\n",
        "    for word in corpus:\n",
        "        if word not in word_freq:\n",
        "            word_freq[word] = 1\n",
        "        else:\n",
        "            word_freq[word] += 1\n",
        "\n",
        "    # count other_word_freq\n",
        "    for key, value in word_freq.items():\n",
        "        other_word_freq[key] = corpus_size - value\n",
        "    \n",
        "    return word_freq, other_word_freq, corpus_size"
      ],
      "execution_count": null,
      "outputs": []
    },
    {
      "cell_type": "markdown",
      "metadata": {
        "id": "-tjyoOZT8r5Z"
      },
      "source": [
        "## 3.1 練習"
      ]
    },
    {
      "cell_type": "code",
      "metadata": {
        "colab": {
          "base_uri": "https://localhost:8080/"
        },
        "id": "9MlquZ5Gf17u",
        "outputId": "8df489ab-a9ad-404b-e6de-bf7449c610f6"
      },
      "source": [
        "## TODO: 請找出 target corpus 的 corpus size\n",
        "count_freq(tgt_corpus)[2]"
      ],
      "execution_count": null,
      "outputs": [
        {
          "output_type": "execute_result",
          "data": {
            "text/plain": [
              "1419482"
            ]
          },
          "metadata": {
            "tags": []
          },
          "execution_count": 8
        }
      ]
    },
    {
      "cell_type": "code",
      "metadata": {
        "colab": {
          "base_uri": "https://localhost:8080/"
        },
        "id": "8Apl-DTGgZYB",
        "outputId": "d806bb20-c8df-411a-876e-b03a6f5873d8"
      },
      "source": [
        "## TODO: 請找出 \"減肥\" 一詞在 target corpus 中出現了幾次\n",
        "count_freq(tgt_corpus)[0].get('減肥', 0)"
      ],
      "execution_count": null,
      "outputs": [
        {
          "output_type": "execute_result",
          "data": {
            "text/plain": [
              "49"
            ]
          },
          "metadata": {
            "tags": []
          },
          "execution_count": 9
        }
      ]
    },
    {
      "cell_type": "code",
      "metadata": {
        "colab": {
          "base_uri": "https://localhost:8080/"
        },
        "id": "ETvyaygDlefL",
        "outputId": "f74feaf5-0892-4e7f-9099-13499aa37f1f"
      },
      "source": [
        "## TODO: 請找出 \"河蟹\" 一詞在 reference corpus 中出現了幾次\n",
        "count_freq(ref_corpus)[0].get('河蟹', 0)"
      ],
      "execution_count": null,
      "outputs": [
        {
          "output_type": "execute_result",
          "data": {
            "text/plain": [
              "0"
            ]
          },
          "metadata": {
            "tags": []
          },
          "execution_count": 10
        }
      ]
    },
    {
      "cell_type": "markdown",
      "metadata": {
        "id": "1oQWy5-b81Yq"
      },
      "source": [
        "利用這個函式，我們就可以知道 contingency table 中各欄位的值。"
      ]
    },
    {
      "cell_type": "code",
      "metadata": {
        "id": "IUwUQqEa93UZ"
      },
      "source": [
        "tgt_freq = count_freq(tgt_corpus)[0]\n",
        "tgt_other_freq = count_freq(tgt_corpus)[1]\n",
        "tgt_size = count_freq(tgt_corpus)[2]\n",
        "ref_freq = count_freq(ref_corpus)[0]\n",
        "ref_other_freq = count_freq(ref_corpus)[1]\n",
        "ref_size = count_freq(ref_corpus)[2]"
      ],
      "execution_count": null,
      "outputs": []
    },
    {
      "cell_type": "markdown",
      "metadata": {
        "id": "al0uDicWnpVG"
      },
      "source": [
        "# Step 4: 計算 keyness"
      ]
    },
    {
      "cell_type": "markdown",
      "metadata": {
        "id": "kmbPPGP6nru9"
      },
      "source": [
        "現在，我們要定義第二個函式，幫助我們計算 keyness。"
      ]
    },
    {
      "cell_type": "code",
      "metadata": {
        "id": "lVc34MJMXVVc"
      },
      "source": [
        "tgt_corpus_words = set(tgt_corpus)\n",
        "ref_corpus_words = set(ref_corpus)\n",
        "\n",
        "def get_keyness(word):\n",
        "\n",
        "  # 處理不在 2 個 corpus 中的詞\n",
        "  if word not in tgt_corpus_words and word not in ref_corpus_words:\n",
        "    print(f\"{word} not found in both corpora\")\n",
        "    return {}\n",
        "\n",
        "  # 計算 Observed values\n",
        "  O11 = tgt_freq.get(word, 0.000001) # 為避免數值中有 0 所造成的 error，我們將其換成一個趨近於 0 的數\n",
        "  O12 = tgt_other_freq.get(word, tgt_size)\n",
        "  O21 = ref_freq.get(word, 0.000001)\n",
        "  O22 = ref_other_freq.get(word, ref_size)\n",
        "  word_total = O11 + O21\n",
        "  otherword_total = O12 + O22 \n",
        "  total_size = tgt_size + ref_size\n",
        "\n",
        "  ## 計算 Expected values\n",
        "  E11 = word_total * tgt_size / total_size\n",
        "  E12 = otherword_total * tgt_size / total_size\n",
        "  E21 = word_total * ref_size / total_size\n",
        "  E22 = otherword_total * ref_size / total_size\n",
        "\n",
        "  ## 計算 chi-square value\n",
        "  chi2 = (O11 - E11)**2/E11 + (O12 - E12)**2/E12 + (O21 - E21)**2/E21 + (O22 - E22)**2/E22\n",
        "\n",
        "  ## 計算 log-likelihood value\n",
        "  G2 = 2*(O11*math.log(O11/E11) + O21*math.log(O21/E21) + O12*math.log(O12/E12) + O22*math.log(O22/E22)) \n",
        "  \n",
        "  # 紀錄該詞偏好在哪一個 corpus 中出現\n",
        "  preference = 'tgt_corpus' if O11>E11 else 'ref_corpus'\n",
        "  \n",
        "  result = {'word': word, 'pref': preference, 'chi2': chi2, 'G2': G2}\n",
        "\n",
        "  return result"
      ],
      "execution_count": null,
      "outputs": []
    },
    {
      "cell_type": "markdown",
      "metadata": {
        "id": "BwjnLaMY9aCx"
      },
      "source": [
        "## 4.1 練習"
      ]
    },
    {
      "cell_type": "code",
      "metadata": {
        "colab": {
          "base_uri": "https://localhost:8080/"
        },
        "id": "p0BXgWQU-L1j",
        "outputId": "d627b4d6-f30f-49f3-9deb-3bdd1d27a152"
      },
      "source": [
        "## TODO: 請找出 \"台灣\" 的 keyness (以 log-likelihood 計算)\n",
        "get_keyness('台灣')['G2']"
      ],
      "execution_count": null,
      "outputs": [
        {
          "output_type": "execute_result",
          "data": {
            "text/plain": [
              "2108.5276614203476"
            ]
          },
          "metadata": {
            "tags": []
          },
          "execution_count": 13
        }
      ]
    },
    {
      "cell_type": "code",
      "metadata": {
        "colab": {
          "base_uri": "https://localhost:8080/",
          "height": 34
        },
        "id": "b70WbpJ9-Wr5",
        "outputId": "20607a79-c0c0-46ff-e7ce-3646a2d60b05"
      },
      "source": [
        "## TODO: 請找出 \"喜歡\" 偏好在哪一個 corpus 出現\n",
        "get_keyness('喜歡')['pref']"
      ],
      "execution_count": null,
      "outputs": [
        {
          "output_type": "execute_result",
          "data": {
            "application/vnd.google.colaboratory.intrinsic+json": {
              "type": "string"
            },
            "text/plain": [
              "'ref_corpus'"
            ]
          },
          "metadata": {
            "tags": []
          },
          "execution_count": 14
        }
      ]
    },
    {
      "cell_type": "code",
      "metadata": {
        "colab": {
          "base_uri": "https://localhost:8080/"
        },
        "id": "PaqDufSW-fo3",
        "outputId": "ed60afef-86c9-4a6d-dd6d-a69a04ddb41a"
      },
      "source": [
        "## TODO: 搜尋 \"最好是啦\"，會發生什麼事?\n",
        "get_keyness('最好是啦')"
      ],
      "execution_count": null,
      "outputs": [
        {
          "output_type": "stream",
          "text": [
            "最好是啦 not found in both corpora\n"
          ],
          "name": "stdout"
        },
        {
          "output_type": "execute_result",
          "data": {
            "text/plain": [
              "{}"
            ]
          },
          "metadata": {
            "tags": []
          },
          "execution_count": 15
        }
      ]
    },
    {
      "cell_type": "markdown",
      "metadata": {
        "id": "IVYPp7DSn4e-"
      },
      "source": [
        "接著，我們將兩個 corpus 都丟進去算 keyness。"
      ]
    },
    {
      "cell_type": "code",
      "metadata": {
        "id": "X5kZ3IU9XYDz"
      },
      "source": [
        "all_words = set(tgt_corpus + ref_corpus)\n",
        "\n",
        "keyness = []\n",
        "for word in all_words:\n",
        "    keyness.append(get_keyness(word))"
      ],
      "execution_count": null,
      "outputs": []
    },
    {
      "cell_type": "markdown",
      "metadata": {
        "id": "8MwEwvEXn8pC"
      },
      "source": [
        "現在我們已經知道兩個 corpus 中所有字的 keyness 了！\n"
      ]
    },
    {
      "cell_type": "markdown",
      "metadata": {
        "id": "U4xr5OdPn-_9"
      },
      "source": [
        "# Step 5: 找出 PTT 兩板的 keywords"
      ]
    },
    {
      "cell_type": "markdown",
      "metadata": {
        "id": "mi8W0OKsoBY7"
      },
      "source": [
        "為了知道前十名的 keywords，我們要定義最後一個函式。"
      ]
    },
    {
      "cell_type": "code",
      "metadata": {
        "id": "9hnkel8-HidA"
      },
      "source": [
        "def get_topn(data=None, pref='tgt_corpus', sort_by='G2', n=10):\n",
        "  out = []\n",
        "  for w in data:\n",
        "    if w['pref'] == pref:\n",
        "      out.append(w)\n",
        "  \n",
        "  return sorted(out, key=lambda x:x[sort_by], reverse=True)[:n] # 由大到小排序"
      ],
      "execution_count": null,
      "outputs": []
    },
    {
      "cell_type": "markdown",
      "metadata": {
        "id": "hsKBAV6uoJCD"
      },
      "source": [
        "這個函式預設將取回 target corpus 中前十名的 keywords。排序預設的 measure 是 log-likelihood 值。"
      ]
    },
    {
      "cell_type": "markdown",
      "metadata": {
        "id": "qf_c93b090Th"
      },
      "source": [
        "## 5.1 練習"
      ]
    },
    {
      "cell_type": "code",
      "metadata": {
        "colab": {
          "base_uri": "https://localhost:8080/"
        },
        "id": "k37O79Sdpi1u",
        "outputId": "4a921623-b2e9-453c-c4f4-a502351fa47b"
      },
      "source": [
        "## TODO: 找出 Gossiping 板的前十名 keywords，以 log-likelihood 值排序\n",
        "get_topn(keyness)"
      ],
      "execution_count": null,
      "outputs": [
        {
          "output_type": "execute_result",
          "data": {
            "text/plain": [
              "[{'G2': 2440.4167324858095,\n",
              "  'chi2': 2141.2802492119754,\n",
              "  'pref': 'tgt_corpus',\n",
              "  'word': '中國'},\n",
              " {'G2': 2374.2138993979543,\n",
              "  'chi2': 1783.951927773951,\n",
              "  'pref': 'tgt_corpus',\n",
              "  'word': '卦'},\n",
              " {'G2': 2108.5276614203476,\n",
              "  'chi2': 1955.2602803120844,\n",
              "  'pref': 'tgt_corpus',\n",
              "  'word': '台灣'},\n",
              " {'G2': 1998.8366044157801,\n",
              "  'chi2': 1740.0905684321172,\n",
              "  'pref': 'tgt_corpus',\n",
              "  'word': '新聞'},\n",
              " {'G2': 1297.4900426069826,\n",
              "  'chi2': 1022.8480966422363,\n",
              "  'pref': 'tgt_corpus',\n",
              "  'word': '柯'},\n",
              " {'G2': 1215.1792066034475,\n",
              "  'chi2': 1047.899529524941,\n",
              "  'pref': 'tgt_corpus',\n",
              "  'word': '美國'},\n",
              " {'G2': 1061.7762128897075,\n",
              "  'chi2': 897.4894166314751,\n",
              "  'pref': 'tgt_corpus',\n",
              "  'word': '蟑螂'},\n",
              " {'G2': 1051.8492165363477,\n",
              "  'chi2': 812.4110009633503,\n",
              "  'pref': 'tgt_corpus',\n",
              "  'word': '完整'},\n",
              " {'G2': 1019.9027385737566,\n",
              "  'chi2': 906.4428555287884,\n",
              "  'pref': 'tgt_corpus',\n",
              "  'word': '政府'},\n",
              " {'G2': 909.2808639878286,\n",
              "  'chi2': 744.4026942796016,\n",
              "  'pref': 'tgt_corpus',\n",
              "  'word': '防疫'}]"
            ]
          },
          "metadata": {
            "tags": []
          },
          "execution_count": 20
        }
      ]
    },
    {
      "cell_type": "code",
      "metadata": {
        "colab": {
          "base_uri": "https://localhost:8080/"
        },
        "id": "pVZLI8kiqfYE",
        "outputId": "336f60a6-28a3-4e18-d0dd-5dc152daeba7"
      },
      "source": [
        "## TODO: 找出 WomenTalk 板的前十名 keywords，以 log-likelihood 值排序\n",
        "get_topn(keyness, pref = 'ref_corpus')"
      ],
      "execution_count": null,
      "outputs": [
        {
          "output_type": "execute_result",
          "data": {
            "text/plain": [
              "[{'G2': 6826.209723415373,\n",
              "  'chi2': 6745.572659693336,\n",
              "  'pref': 'ref_corpus',\n",
              "  'word': '我'},\n",
              " {'G2': 2114.888688686446,\n",
              "  'chi2': 1635.1448501767568,\n",
              "  'pref': 'ref_corpus',\n",
              "  'word': '閒聊'},\n",
              " {'G2': 2107.149523886605,\n",
              "  'chi2': 2045.6993486457404,\n",
              "  'pref': 'ref_corpus',\n",
              "  'word': '覺得'},\n",
              " {'G2': 1886.7109718348756,\n",
              "  'chi2': 1764.3703964501883,\n",
              "  'pref': 'ref_corpus',\n",
              "  'word': '喜歡'},\n",
              " {'G2': 1703.9840819789488,\n",
              "  'chi2': 1700.451545499259,\n",
              "  'pref': 'ref_corpus',\n",
              "  'word': '很'},\n",
              " {'G2': 1365.1274807112593,\n",
              "  'chi2': 1251.7049064463808,\n",
              "  'pref': 'ref_corpus',\n",
              "  'word': '妳'},\n",
              " {'G2': 949.8289933799933,\n",
              "  'chi2': 952.3752419200493,\n",
              "  'pref': 'ref_corpus',\n",
              "  'word': '的'},\n",
              " {'G2': 948.420217095611,\n",
              "  'chi2': 933.9179367819829,\n",
              "  'pref': 'ref_corpus',\n",
              "  'word': '她'},\n",
              " {'G2': 921.4776141177922,\n",
              "  'chi2': 918.3290034164785,\n",
              "  'pref': 'ref_corpus',\n",
              "  'word': '自己'},\n",
              " {'G2': 834.0005583787472,\n",
              "  'chi2': 789.8668147264201,\n",
              "  'pref': 'ref_corpus',\n",
              "  'word': '女生'}]"
            ]
          },
          "metadata": {
            "tags": []
          },
          "execution_count": 21
        }
      ]
    },
    {
      "cell_type": "code",
      "metadata": {
        "colab": {
          "base_uri": "https://localhost:8080/"
        },
        "id": "6oRSWC6Bqohv",
        "outputId": "4a528abe-2110-4c9c-a82f-706fdf3aa923"
      },
      "source": [
        "## TODO: 找出 Gossiping 板的前五名 keywords，以 chi-square 值排序\n",
        "get_topn(keyness, sort_by = 'chi2', n = 5)"
      ],
      "execution_count": null,
      "outputs": [
        {
          "output_type": "execute_result",
          "data": {
            "text/plain": [
              "[{'G2': 2440.4167324858095,\n",
              "  'chi2': 2141.2802492119754,\n",
              "  'pref': 'tgt_corpus',\n",
              "  'word': '中國'},\n",
              " {'G2': 2108.5276614203476,\n",
              "  'chi2': 1955.2602803120844,\n",
              "  'pref': 'tgt_corpus',\n",
              "  'word': '台灣'},\n",
              " {'G2': 2374.2138993979543,\n",
              "  'chi2': 1783.951927773951,\n",
              "  'pref': 'tgt_corpus',\n",
              "  'word': '卦'},\n",
              " {'G2': 1998.8366044157801,\n",
              "  'chi2': 1740.0905684321172,\n",
              "  'pref': 'tgt_corpus',\n",
              "  'word': '新聞'},\n",
              " {'G2': 1215.1792066034475,\n",
              "  'chi2': 1047.899529524941,\n",
              "  'pref': 'tgt_corpus',\n",
              "  'word': '美國'}]"
            ]
          },
          "metadata": {
            "tags": []
          },
          "execution_count": 22
        }
      ]
    },
    {
      "cell_type": "code",
      "metadata": {
        "colab": {
          "base_uri": "https://localhost:8080/"
        },
        "id": "pEamdrkkq0AH",
        "outputId": "c9ea5634-224c-4600-db0e-97b3a61088f8"
      },
      "source": [
        "## TODO: 找出 WomenTalk 板的前五名 keywords，以 chi-square 值排序\n",
        "get_topn(keyness, pref = 'ref_corpus', sort_by = 'chi2', n = 5)"
      ],
      "execution_count": null,
      "outputs": [
        {
          "output_type": "execute_result",
          "data": {
            "text/plain": [
              "[{'G2': 6826.209723415373,\n",
              "  'chi2': 6745.572659693336,\n",
              "  'pref': 'ref_corpus',\n",
              "  'word': '我'},\n",
              " {'G2': 2107.149523886605,\n",
              "  'chi2': 2045.6993486457404,\n",
              "  'pref': 'ref_corpus',\n",
              "  'word': '覺得'},\n",
              " {'G2': 1886.7109718348756,\n",
              "  'chi2': 1764.3703964501883,\n",
              "  'pref': 'ref_corpus',\n",
              "  'word': '喜歡'},\n",
              " {'G2': 1703.9840819789488,\n",
              "  'chi2': 1700.451545499259,\n",
              "  'pref': 'ref_corpus',\n",
              "  'word': '很'},\n",
              " {'G2': 2114.888688686446,\n",
              "  'chi2': 1635.1448501767568,\n",
              "  'pref': 'ref_corpus',\n",
              "  'word': '閒聊'}]"
            ]
          },
          "metadata": {
            "tags": []
          },
          "execution_count": 23
        }
      ]
    },
    {
      "cell_type": "markdown",
      "metadata": {
        "id": "qzGO5KAYPLWW"
      },
      "source": [
        "# Step 6. 視覺化"
      ]
    },
    {
      "cell_type": "code",
      "metadata": {
        "colab": {
          "base_uri": "https://localhost:8080/"
        },
        "id": "t9iDyp-83owV",
        "outputId": "c7e2ffaa-68fb-40fe-fb23-0bb6f472a5bd"
      },
      "source": [
        "# 讓 Colab 後續繪圖時顯示繁體中文\n",
        "# 下載台北思源黑體\n",
        "!wget -O taipei_sans_tc_beta.ttf https://drive.google.com/uc?id=1eGAsTN1HBpJAkeVM57_C7ccp7hbgSz3_&export=download\n",
        "\n",
        "# 新增字體\n",
        "matplotlib.font_manager.fontManager.addfont('taipei_sans_tc_beta.ttf')\n",
        "\n",
        "# 將 font-family 設為台北思源黑體\n",
        "matplotlib.rc('font', family = 'Taipei Sans TC Beta')"
      ],
      "execution_count": null,
      "outputs": [
        {
          "output_type": "stream",
          "text": [
            "--2020-12-10 08:03:06--  https://drive.google.com/uc?id=1eGAsTN1HBpJAkeVM57_C7ccp7hbgSz3_\n",
            "Resolving drive.google.com (drive.google.com)... 74.125.137.138, 74.125.137.102, 74.125.137.101, ...\n",
            "Connecting to drive.google.com (drive.google.com)|74.125.137.138|:443... connected.\n",
            "HTTP request sent, awaiting response... 302 Moved Temporarily\n",
            "Location: https://doc-0k-9o-docs.googleusercontent.com/docs/securesc/ha0ro937gcuc7l7deffksulhg5h7mbp1/eg1jv5qh5sl54su4mh9idh523f7ac91d/1607587350000/02847987870453524430/*/1eGAsTN1HBpJAkeVM57_C7ccp7hbgSz3_ [following]\n",
            "Warning: wildcards not supported in HTTP.\n",
            "--2020-12-10 08:03:07--  https://doc-0k-9o-docs.googleusercontent.com/docs/securesc/ha0ro937gcuc7l7deffksulhg5h7mbp1/eg1jv5qh5sl54su4mh9idh523f7ac91d/1607587350000/02847987870453524430/*/1eGAsTN1HBpJAkeVM57_C7ccp7hbgSz3_\n",
            "Resolving doc-0k-9o-docs.googleusercontent.com (doc-0k-9o-docs.googleusercontent.com)... 74.125.137.132, 2607:f8b0:4023:c03::84\n",
            "Connecting to doc-0k-9o-docs.googleusercontent.com (doc-0k-9o-docs.googleusercontent.com)|74.125.137.132|:443... connected.\n",
            "HTTP request sent, awaiting response... 200 OK\n",
            "Length: unspecified [application/x-font-ttf]\n",
            "Saving to: ‘taipei_sans_tc_beta.ttf’\n",
            "\n",
            "taipei_sans_tc_beta     [   <=>              ]  19.70M  27.4MB/s    in 0.7s    \n",
            "\n",
            "2020-12-10 08:03:09 (27.4 MB/s) - ‘taipei_sans_tc_beta.ttf’ saved [20659344]\n",
            "\n"
          ],
          "name": "stdout"
        }
      ]
    },
    {
      "cell_type": "markdown",
      "metadata": {
        "id": "Awd8gCfx3p6h"
      },
      "source": [
        "## 6.1 表格"
      ]
    },
    {
      "cell_type": "markdown",
      "metadata": {
        "id": "x4Wu6y27PusM"
      },
      "source": [
        "以 Gossiping 板前十名 keywords 為例 (以 log-likelihood 值排序)，將 `list` 型態的結果轉成 `DataFrame`。\n"
      ]
    },
    {
      "cell_type": "code",
      "metadata": {
        "colab": {
          "base_uri": "https://localhost:8080/",
          "height": 349
        },
        "id": "4dk4e2tkrnyo",
        "outputId": "0f89ad4f-cb07-4787-94a5-ccd4ae989ff7"
      },
      "source": [
        "tgt_G2_top10 = get_topn(keyness)\n",
        "tgt_G2_top10_df = pd.DataFrame(tgt_G2_top10)\n",
        "tgt_G2_top10_df"
      ],
      "execution_count": null,
      "outputs": [
        {
          "output_type": "execute_result",
          "data": {
            "text/html": [
              "<div>\n",
              "<style scoped>\n",
              "    .dataframe tbody tr th:only-of-type {\n",
              "        vertical-align: middle;\n",
              "    }\n",
              "\n",
              "    .dataframe tbody tr th {\n",
              "        vertical-align: top;\n",
              "    }\n",
              "\n",
              "    .dataframe thead th {\n",
              "        text-align: right;\n",
              "    }\n",
              "</style>\n",
              "<table border=\"1\" class=\"dataframe\">\n",
              "  <thead>\n",
              "    <tr style=\"text-align: right;\">\n",
              "      <th></th>\n",
              "      <th>word</th>\n",
              "      <th>pref</th>\n",
              "      <th>chi2</th>\n",
              "      <th>G2</th>\n",
              "    </tr>\n",
              "  </thead>\n",
              "  <tbody>\n",
              "    <tr>\n",
              "      <th>0</th>\n",
              "      <td>中國</td>\n",
              "      <td>tgt_corpus</td>\n",
              "      <td>2141.280249</td>\n",
              "      <td>2440.416732</td>\n",
              "    </tr>\n",
              "    <tr>\n",
              "      <th>1</th>\n",
              "      <td>卦</td>\n",
              "      <td>tgt_corpus</td>\n",
              "      <td>1783.951928</td>\n",
              "      <td>2374.213899</td>\n",
              "    </tr>\n",
              "    <tr>\n",
              "      <th>2</th>\n",
              "      <td>台灣</td>\n",
              "      <td>tgt_corpus</td>\n",
              "      <td>1955.260280</td>\n",
              "      <td>2108.527661</td>\n",
              "    </tr>\n",
              "    <tr>\n",
              "      <th>3</th>\n",
              "      <td>新聞</td>\n",
              "      <td>tgt_corpus</td>\n",
              "      <td>1740.090568</td>\n",
              "      <td>1998.836604</td>\n",
              "    </tr>\n",
              "    <tr>\n",
              "      <th>4</th>\n",
              "      <td>柯</td>\n",
              "      <td>tgt_corpus</td>\n",
              "      <td>1022.848097</td>\n",
              "      <td>1297.490043</td>\n",
              "    </tr>\n",
              "    <tr>\n",
              "      <th>5</th>\n",
              "      <td>美國</td>\n",
              "      <td>tgt_corpus</td>\n",
              "      <td>1047.899530</td>\n",
              "      <td>1215.179207</td>\n",
              "    </tr>\n",
              "    <tr>\n",
              "      <th>6</th>\n",
              "      <td>蟑螂</td>\n",
              "      <td>tgt_corpus</td>\n",
              "      <td>897.489417</td>\n",
              "      <td>1061.776213</td>\n",
              "    </tr>\n",
              "    <tr>\n",
              "      <th>7</th>\n",
              "      <td>完整</td>\n",
              "      <td>tgt_corpus</td>\n",
              "      <td>812.411001</td>\n",
              "      <td>1051.849217</td>\n",
              "    </tr>\n",
              "    <tr>\n",
              "      <th>8</th>\n",
              "      <td>政府</td>\n",
              "      <td>tgt_corpus</td>\n",
              "      <td>906.442856</td>\n",
              "      <td>1019.902739</td>\n",
              "    </tr>\n",
              "    <tr>\n",
              "      <th>9</th>\n",
              "      <td>防疫</td>\n",
              "      <td>tgt_corpus</td>\n",
              "      <td>744.402694</td>\n",
              "      <td>909.280864</td>\n",
              "    </tr>\n",
              "  </tbody>\n",
              "</table>\n",
              "</div>"
            ],
            "text/plain": [
              "  word        pref         chi2           G2\n",
              "0   中國  tgt_corpus  2141.280249  2440.416732\n",
              "1    卦  tgt_corpus  1783.951928  2374.213899\n",
              "2   台灣  tgt_corpus  1955.260280  2108.527661\n",
              "3   新聞  tgt_corpus  1740.090568  1998.836604\n",
              "4    柯  tgt_corpus  1022.848097  1297.490043\n",
              "5   美國  tgt_corpus  1047.899530  1215.179207\n",
              "6   蟑螂  tgt_corpus   897.489417  1061.776213\n",
              "7   完整  tgt_corpus   812.411001  1051.849217\n",
              "8   政府  tgt_corpus   906.442856  1019.902739\n",
              "9   防疫  tgt_corpus   744.402694   909.280864"
            ]
          },
          "metadata": {
            "tags": []
          },
          "execution_count": 24
        }
      ]
    },
    {
      "cell_type": "code",
      "metadata": {
        "id": "VuMmReBOesZR"
      },
      "source": [
        "# 將 pdDataFrame 轉成表格圖表後輸出檔案\r\n",
        "from pandas.plotting import table\r\n",
        "\r\n",
        "figure, axes = plt.subplots(figsize=(15, 5))  # 設定背景大小\r\n",
        "axes.xaxis.set_visible(False)  # 隱藏 x 座標\r\n",
        "axes.yaxis.set_visible(False)  # 隱藏 y 座標\r\n",
        "axes.set_frame_on(False)  # 隱藏格線\r\n",
        "\r\n",
        "table = table(axes, tgt_G2_top10_df, # 製作表格圖表\r\n",
        "              loc='upper right',\r\n",
        "              colWidths=[0.18]*len(tgt_G2_top10_df.columns))\r\n",
        "table.auto_set_font_size(False) # 將字體大小改為手動\r\n",
        "table.set_fontsize(12) # 設定字體大小\r\n",
        "table.scale(1.2, 1.2) # 設定表格大小\r\n",
        "\r\n",
        "# 儲存後匯出檔案\r\n",
        "plt.savefig('tgt_G2_top10_df.png')\r\n",
        "#files.download(\"tgt_G2_top10_df.png\")"
      ],
      "execution_count": null,
      "outputs": []
    },
    {
      "cell_type": "markdown",
      "metadata": {
        "id": "DyS9O30kC_8X"
      },
      "source": [
        "### 6.1.1 練習"
      ]
    },
    {
      "cell_type": "code",
      "metadata": {
        "colab": {
          "base_uri": "https://localhost:8080/",
          "height": 349
        },
        "id": "W6DMnp-DPy8q",
        "outputId": "2ac28240-df06-46e6-ab40-dfe19d3020e6"
      },
      "source": [
        "## TODO: 將 WomenTalk 板前十名 keywords (以 log-likelihood 值排序) 的結果轉成 DataFrame\n",
        "ref_G2_top10 = get_topn(keyness, pref = 'ref_corpus')\n",
        "ref_G2_top10_df = pd.DataFrame(ref_G2_top10)\n",
        "ref_G2_top10_df"
      ],
      "execution_count": null,
      "outputs": [
        {
          "output_type": "execute_result",
          "data": {
            "text/html": [
              "<div>\n",
              "<style scoped>\n",
              "    .dataframe tbody tr th:only-of-type {\n",
              "        vertical-align: middle;\n",
              "    }\n",
              "\n",
              "    .dataframe tbody tr th {\n",
              "        vertical-align: top;\n",
              "    }\n",
              "\n",
              "    .dataframe thead th {\n",
              "        text-align: right;\n",
              "    }\n",
              "</style>\n",
              "<table border=\"1\" class=\"dataframe\">\n",
              "  <thead>\n",
              "    <tr style=\"text-align: right;\">\n",
              "      <th></th>\n",
              "      <th>word</th>\n",
              "      <th>pref</th>\n",
              "      <th>chi2</th>\n",
              "      <th>G2</th>\n",
              "    </tr>\n",
              "  </thead>\n",
              "  <tbody>\n",
              "    <tr>\n",
              "      <th>0</th>\n",
              "      <td>我</td>\n",
              "      <td>ref_corpus</td>\n",
              "      <td>6745.572660</td>\n",
              "      <td>6826.209723</td>\n",
              "    </tr>\n",
              "    <tr>\n",
              "      <th>1</th>\n",
              "      <td>閒聊</td>\n",
              "      <td>ref_corpus</td>\n",
              "      <td>1635.144850</td>\n",
              "      <td>2114.888689</td>\n",
              "    </tr>\n",
              "    <tr>\n",
              "      <th>2</th>\n",
              "      <td>覺得</td>\n",
              "      <td>ref_corpus</td>\n",
              "      <td>2045.699349</td>\n",
              "      <td>2107.149524</td>\n",
              "    </tr>\n",
              "    <tr>\n",
              "      <th>3</th>\n",
              "      <td>喜歡</td>\n",
              "      <td>ref_corpus</td>\n",
              "      <td>1764.370396</td>\n",
              "      <td>1886.710972</td>\n",
              "    </tr>\n",
              "    <tr>\n",
              "      <th>4</th>\n",
              "      <td>很</td>\n",
              "      <td>ref_corpus</td>\n",
              "      <td>1700.451545</td>\n",
              "      <td>1703.984082</td>\n",
              "    </tr>\n",
              "    <tr>\n",
              "      <th>5</th>\n",
              "      <td>妳</td>\n",
              "      <td>ref_corpus</td>\n",
              "      <td>1251.704906</td>\n",
              "      <td>1365.127481</td>\n",
              "    </tr>\n",
              "    <tr>\n",
              "      <th>6</th>\n",
              "      <td>的</td>\n",
              "      <td>ref_corpus</td>\n",
              "      <td>952.375242</td>\n",
              "      <td>949.828993</td>\n",
              "    </tr>\n",
              "    <tr>\n",
              "      <th>7</th>\n",
              "      <td>她</td>\n",
              "      <td>ref_corpus</td>\n",
              "      <td>933.917937</td>\n",
              "      <td>948.420217</td>\n",
              "    </tr>\n",
              "    <tr>\n",
              "      <th>8</th>\n",
              "      <td>自己</td>\n",
              "      <td>ref_corpus</td>\n",
              "      <td>918.329003</td>\n",
              "      <td>921.477614</td>\n",
              "    </tr>\n",
              "    <tr>\n",
              "      <th>9</th>\n",
              "      <td>女生</td>\n",
              "      <td>ref_corpus</td>\n",
              "      <td>789.866815</td>\n",
              "      <td>834.000558</td>\n",
              "    </tr>\n",
              "  </tbody>\n",
              "</table>\n",
              "</div>"
            ],
            "text/plain": [
              "  word        pref         chi2           G2\n",
              "0    我  ref_corpus  6745.572660  6826.209723\n",
              "1   閒聊  ref_corpus  1635.144850  2114.888689\n",
              "2   覺得  ref_corpus  2045.699349  2107.149524\n",
              "3   喜歡  ref_corpus  1764.370396  1886.710972\n",
              "4    很  ref_corpus  1700.451545  1703.984082\n",
              "5    妳  ref_corpus  1251.704906  1365.127481\n",
              "6    的  ref_corpus   952.375242   949.828993\n",
              "7    她  ref_corpus   933.917937   948.420217\n",
              "8   自己  ref_corpus   918.329003   921.477614\n",
              "9   女生  ref_corpus   789.866815   834.000558"
            ]
          },
          "metadata": {
            "tags": []
          },
          "execution_count": 25
        }
      ]
    },
    {
      "cell_type": "markdown",
      "metadata": {
        "id": "8rg8JpLernhT"
      },
      "source": [
        "###【討論問題】  \n",
        "* Gossiping 板的 keywords 跟 WomenTalk 板有什麼不一樣？造成兩板用詞差異可能的因素有那些？\n",
        "* 用 chi-square 和 log-likelihood 所算出的 keyword 結果相似嗎？"
      ]
    },
    {
      "cell_type": "markdown",
      "metadata": {
        "id": "jKowz3BZd0yi"
      },
      "source": [
        "## 6.2 長條圖"
      ]
    },
    {
      "cell_type": "markdown",
      "metadata": {
        "id": "z_s58nxpR0Qn"
      },
      "source": [
        "讓我們進一步把資料呈現成長條圖。"
      ]
    },
    {
      "cell_type": "code",
      "metadata": {
        "colab": {
          "base_uri": "https://localhost:8080/",
          "height": 321
        },
        "id": "GdLrfcIvjxX_",
        "outputId": "f387cdf2-7494-4019-ae3b-1c622c31caf3"
      },
      "source": [
        "# 以 Gossiping 板前十名 keywords 為例 (以 log-likelihood 值排序)\n",
        "\n",
        "tgt_G2_top10_df.plot.bar(x = 'word', y = 'G2')\n",
        "\n",
        "plt.title('八卦板前十大關鍵詞', fontsize=24) # 標題名稱\n",
        "plt.xlabel('關鍵詞', fontsize=18) # X軸名稱\n",
        "plt.ylabel('G2', fontsize=18) # Y軸名稱\n",
        "\n",
        "# 儲存後匯出檔案\n",
        "plt.savefig('tgt_G2_top10_bar.png')\n",
        "plt.show()\n",
        "#files.download(\"tgt_G2_top10_bar.png\")"
      ],
      "execution_count": null,
      "outputs": [
        {
          "output_type": "display_data",
          "data": {
            "image/png": "[encoded data removed]",
            "text/plain": [
              "<Figure size 432x288 with 1 Axes>"
            ]
          },
          "metadata": {
            "tags": [],
            "needs_background": "light"
          }
        }
      ]
    },
    {
      "cell_type": "markdown",
      "metadata": {
        "id": "zB49JF4Yevbi"
      },
      "source": [
        "### 6.2.1 練習"
      ]
    },
    {
      "cell_type": "code",
      "metadata": {
        "colab": {
          "base_uri": "https://localhost:8080/",
          "height": 321
        },
        "id": "dHRhzne8VXf8",
        "outputId": "fe0ac00c-24f3-44d2-a750-26cf431a634d"
      },
      "source": [
        "# 畫出 WomenTalk 板前十名 keywords (以 log-likelihood 值排序) 的長條圖\n",
        "\n",
        "ref_G2_top10_df.plot.bar(x = 'word', y = 'G2')\n",
        "\n",
        "plt.title('女板前十大關鍵詞', fontsize=24) # 標題名稱\n",
        "plt.xlabel('關鍵詞', fontsize=18) # X軸名稱\n",
        "plt.ylabel('G2', fontsize=18) # Y軸名稱\n",
        "\n",
        "# 儲存後匯出檔案\n",
        "plt.savefig('ref_G2_top10_bar.png')\n",
        "plt.show()\n",
        "#files.download(\"ref_G2_top10_bar.png\")"
      ],
      "execution_count": null,
      "outputs": [
        {
          "output_type": "display_data",
          "data": {
            "image/png": "[encoded data removed]",
            "text/plain": [
              "<Figure size 432x288 with 1 Axes>"
            ]
          },
          "metadata": {
            "tags": [],
            "needs_background": "light"
          }
        }
      ]
    },
    {
      "cell_type": "markdown",
      "metadata": {
        "id": "absXoFAJe-Tb"
      },
      "source": [
        "## 6.3 文字雲"
      ]
    },
    {
      "cell_type": "markdown",
      "metadata": {
        "id": "uhjQbFcd2CPK"
      },
      "source": [
        "除了長條圖，我們也可以把資料畫成文字雲。"
      ]
    },
    {
      "cell_type": "code",
      "metadata": {
        "colab": {
          "base_uri": "https://localhost:8080/",
          "height": 198
        },
        "id": "EqpJ53Psl38b",
        "outputId": "f34713d6-e44c-4c8c-d534-39c6c4e98ebc"
      },
      "source": [
        "# 先將八卦板的 keyness 轉成 dictionary\n",
        "tgt_dict = {i['word']: i['G2'] for i in keyness if i['pref'] == 'tgt_corpus'}\n",
        "\n",
        "# 製作八卦板關鍵詞文字雲\n",
        "wordcloud = WordCloud(font_path = 'taipei_sans_tc_beta.ttf')\n",
        "wordcloud.generate_from_frequencies(frequencies = tgt_dict)\n",
        "plt.figure()\n",
        "plt.imshow(wordcloud)\n",
        "plt.axis('off')\n",
        "\n",
        "# 儲存後匯出檔案\n",
        "plt.savefig('tgt_G2_wordcloud.png')\n",
        "plt.show()\n",
        "#files.download(\"tgt_G2_wordcloud.png\")"
      ],
      "execution_count": null,
      "outputs": [
        {
          "output_type": "display_data",
          "data": {
            "image/png": "[encoded data removed]",
            "text/plain": [
              "<Figure size 432x288 with 1 Axes>"
            ]
          },
          "metadata": {
            "tags": [],
            "needs_background": "light"
          }
        }
      ]
    },
    {
      "cell_type": "markdown",
      "metadata": {
        "id": "iOl5khJwfMA6"
      },
      "source": [
        "### 6.3.1 練習"
      ]
    },
    {
      "cell_type": "code",
      "metadata": {
        "colab": {
          "base_uri": "https://localhost:8080/",
          "height": 198
        },
        "id": "5TjR9zDX0_xf",
        "outputId": "9a2580a3-5ab7-4ddb-8111-f6d913330938"
      },
      "source": [
        "# 先將女板的 keyness 轉成 dictionary\n",
        "ref_dict = {i['word']: i['G2'] for i in keyness if i['pref'] == 'ref_corpus'}\n",
        "\n",
        "# 製作女板關鍵詞文字雲\n",
        "wordcloud = WordCloud(font_path = 'taipei_sans_tc_beta.ttf')\n",
        "wordcloud.generate_from_frequencies(frequencies = ref_dict)\n",
        "plt.figure()\n",
        "plt.imshow(wordcloud)\n",
        "plt.axis('off')\n",
        "\n",
        "# 儲存後匯出檔案\n",
        "plt.savefig('ref_G2_wordcloud.png')\n",
        "plt.show()\n",
        "#files.download(\"ref_G2_wordcloud.png\")"
      ],
      "execution_count": null,
      "outputs": [
        {
          "output_type": "display_data",
          "data": {
            "image/png": "[encoded data removed]",
            "text/plain": [
              "<Figure size 432x288 with 1 Axes>"
            ]
          },
          "metadata": {
            "tags": [],
            "needs_background": "light"
          }
        }
      ]
    }
  ]
}